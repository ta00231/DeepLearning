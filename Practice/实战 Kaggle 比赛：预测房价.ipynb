{
 "cells": [
  {
   "cell_type": "markdown",
   "id": "b190b1e2",
   "metadata": {},
   "source": [
    "# 实战 Kaggle 比赛：预测房价"
   ]
  },
  {
   "cell_type": "code",
   "execution_count": 1,
   "id": "b05ff16b",
   "metadata": {},
   "outputs": [],
   "source": [
    "# 下载和缓存数据集\n",
    "import hashlib\n",
    "import os\n",
    "import tarfile\n",
    "import zipfile\n",
    "import requests\n",
    "\n",
    "DATA_HUB = dict()\n",
    "DATA_URL = 'http://d2l-data.s3-accelerate.amazonaws.com/'"
   ]
  },
  {
   "cell_type": "markdown",
   "id": "5dcb1505",
   "metadata": {},
   "source": [
    "下面的download函数用来下载数据集，将数据集缓存在本地目录（默认情况下为../data）中，并返回下载文件的名称。如果缓存目录中已经存在此数据集文件，并且其sha-1与存储在DATA_HUB中的相匹配，我们将使用缓存的文件，以避免重复的下载。"
   ]
  },
  {
   "cell_type": "code",
   "execution_count": 2,
   "id": "f413c997",
   "metadata": {},
   "outputs": [],
   "source": [
    "def download(name, cache_dir=os.path.join('..', 'data')):\n",
    "    \"\"\"下载一个DATA_HUB中的文件，返回本地文件名。\"\"\"\n",
    "    assert name in DATA_HUB, f\"{name} 不存在于 {DATA_HUB}.\"\n",
    "    url, sha1_hash = DATA_HUB[name]\n",
    "    os.makedirs(cache_dir, exist_ok=True)\n",
    "    fname = os.path.join(cache_dir, url.split('/')[-1])\n",
    "    if os.path.exists(fname):\n",
    "        sha1 = hashlib.sha1()\n",
    "        with open(fname, 'rb') as f:\n",
    "            while True:\n",
    "                data = f.read(1048576)\n",
    "                if not data:\n",
    "                    break\n",
    "                sha1.update(data)\n",
    "        if sha1.hexdigest() == sha1_hash:\n",
    "            return fname\n",
    "    print(f'正在从{url}下载{fname}...')\n",
    "    r = requests.get(url, stream=True, verify=True)\n",
    "    with open(fname, 'wb') as f:\n",
    "        f.write(r.content)\n",
    "    return fname"
   ]
  },
  {
   "cell_type": "markdown",
   "id": "fcdc8caf",
   "metadata": {},
   "source": [
    "我们还实现了两个额外的实用函数：一个是下载并解压缩一个zip或tar文件，另一个是将本书中使用的所有数据集从DATA_HUB下载到缓存目录中。"
   ]
  },
  {
   "cell_type": "code",
   "execution_count": 3,
   "id": "bf699924",
   "metadata": {},
   "outputs": [],
   "source": [
    "def download_extract(name, folder=None):\n",
    "    \"\"\"下载并解压zip/tar文件。\"\"\"\n",
    "    fname = download(name)\n",
    "    base_dir = os.path.dirname(fname)\n",
    "    data_dir, ext = os.path.splitext(fname)\n",
    "    if ext == '.zip':\n",
    "        fp = zipfile.ZipFile(fname, 'r')\n",
    "    elif ext in ('.tar', '.gz'):\n",
    "        fp = tarfile.open(fname, 'r')\n",
    "    else:\n",
    "        assert False, '只有zip/tar文件可以被解压缩。'\n",
    "    fp.extractall(base_dir)\n",
    "    return os.path.join(base_dir, folder) if folder else  data_dir\n",
    "def download_all():\n",
    "    \"\"\"下载DATA_HUB中的所有文件。\"\"\"\n",
    "    for name in DATA_HUB:\n",
    "        download(name)"
   ]
  },
  {
   "cell_type": "code",
   "execution_count": 5,
   "id": "5ac1362d",
   "metadata": {},
   "outputs": [],
   "source": [
    "%matplotlib inline\n",
    "import numpy as np\n",
    "import pandas as pd\n",
    "import tensorflow as tf\n",
    "from d2l import tensorflow as d2l"
   ]
  },
  {
   "cell_type": "code",
   "execution_count": 6,
   "id": "54dee49a",
   "metadata": {},
   "outputs": [],
   "source": [
    "DATA_HUB['kaggle_house_train'] = (\n",
    "    DATA_URL + 'kaggle_house_pred_train.csv',\n",
    "    '585e9cc93e70b39160e7921475f9bcd7d31219ce')\n",
    "\n",
    "DATA_HUB['kaggle_house_test'] = (\n",
    "    DATA_URL + 'kaggle_house_pred_test.csv',\n",
    "    'fa19780a7b011d9b009e8bff8e99922a8ee2eb90')"
   ]
  },
  {
   "cell_type": "code",
   "execution_count": 7,
   "id": "448f1788",
   "metadata": {},
   "outputs": [],
   "source": [
    "train_data = pd.read_csv(download('kaggle_house_train'))\n",
    "test_data = pd.read_csv(download('kaggle_house_test'))"
   ]
  },
  {
   "cell_type": "code",
   "execution_count": 8,
   "id": "4b06a680",
   "metadata": {},
   "outputs": [
    {
     "name": "stdout",
     "output_type": "stream",
     "text": [
      "(1460, 81)\n",
      "(1459, 80)\n"
     ]
    }
   ],
   "source": [
    "print(train_data.shape)\n",
    "print(test_data.shape)"
   ]
  },
  {
   "cell_type": "markdown",
   "id": "bc7b4f41",
   "metadata": {},
   "source": [
    "让我们看看前四个和最后两个特征，以及相应标签（房价）"
   ]
  },
  {
   "cell_type": "code",
   "execution_count": 9,
   "id": "eceefc96",
   "metadata": {},
   "outputs": [
    {
     "name": "stdout",
     "output_type": "stream",
     "text": [
      "   Id  MSSubClass MSZoning  LotFrontage SaleType SaleCondition  SalePrice\n",
      "0   1          60       RL         65.0       WD        Normal     208500\n",
      "1   2          20       RL         80.0       WD        Normal     181500\n",
      "2   3          60       RL         68.0       WD        Normal     223500\n",
      "3   4          70       RL         60.0       WD       Abnorml     140000\n"
     ]
    }
   ],
   "source": [
    "print(train_data.iloc[0:4, [0, 1, 2, 3, -3, -2, -1]])"
   ]
  },
  {
   "cell_type": "markdown",
   "id": "8e51a523",
   "metadata": {},
   "source": [
    "第一个特征是ID，这有助于模型识别每个训练样本。虽然这很方便，但它不携带任何用于预测的信息。因此，在将数据提供给模型之前，我们将其从数据集中删除。"
   ]
  },
  {
   "cell_type": "code",
   "execution_count": 10,
   "id": "04a15876",
   "metadata": {},
   "outputs": [],
   "source": [
    "all_features = pd.concat((train_data.iloc[:, 1:-1], test_data.iloc[:, 1:]))"
   ]
  },
  {
   "cell_type": "markdown",
   "id": "8c508397",
   "metadata": {},
   "source": [
    "# 数据预处理 先Pandas，后转为Numpy"
   ]
  },
  {
   "cell_type": "markdown",
   "id": "3e5ab22e",
   "metadata": {},
   "source": [
    "缺失值的补充：启发式方法，将所有缺失的值替换为相应特征的平均值  \n",
    "特征值缩放：归一化（我们标准化数据有两个原因。首先，它方便优化。其次，因为我们不知道哪些特征是相关的，所以我们不想让惩罚分配给一个特征的系数比分配给其他任何特征的系数更大。）"
   ]
  },
  {
   "cell_type": "code",
   "execution_count": 13,
   "id": "a7529715",
   "metadata": {},
   "outputs": [],
   "source": [
    "# 数字特征的先处理\n",
    "numeric_features = all_features.dtypes[all_features.dtypes != 'object'].index\n",
    "all_features[numeric_features] = all_features[numeric_features].apply(\n",
    "    lambda x: (x - x.mean()) / (x.std()))\n",
    "# 标准化后的数据，缺失值可设为0\n",
    "all_features[numeric_features] = all_features[numeric_features].fillna(0)"
   ]
  },
  {
   "cell_type": "code",
   "execution_count": 15,
   "id": "9d42e5b8",
   "metadata": {},
   "outputs": [
    {
     "data": {
      "text/plain": [
       "(2919, 331)"
      ]
     },
     "execution_count": 15,
     "metadata": {},
     "output_type": "execute_result"
    }
   ],
   "source": [
    "# 离散值，将非数字化的特征通过\"热编码\"处理为数字特征\n",
    "# 利用pd的get_dummies实现\n",
    "# `Dummy_na=True` 将“na”（缺失值）视为有效的特征值，并为其创建指示符特征。\n",
    "all_features = pd.get_dummies(all_features, dummy_na=True)\n",
    "all_features.shape"
   ]
  },
  {
   "cell_type": "code",
   "execution_count": 21,
   "id": "572ab2a1",
   "metadata": {},
   "outputs": [],
   "source": [
    "# 之前做过连接，取前n_train为训练集，后面为验证集或测试集\n",
    "n_train = train_data.shape[0]\n",
    "train_features = tf.constant(all_features[:n_train].values, dtype=d2l.float32)\n",
    "test_features = tf.constant(all_features[n_train:].values, dtype=d2l.float32)\n",
    "train_labels = tf.constant(\n",
    "    train_data.SalePrice.values.reshape(-1, 1), dtype=d2l.float32)"
   ]
  },
  {
   "cell_type": "markdown",
   "id": "332752da",
   "metadata": {},
   "source": [
    "# 训练"
   ]
  },
  {
   "cell_type": "markdown",
   "id": "3235562d",
   "metadata": {},
   "source": [
    "我们训练一个带有损失平方的线性模型,为何？  \n",
    "线性模型提供了一种健全性检查，以查看数据中是否存在有意义的信息。   \n",
    "如果我们在这里不能做得比随机猜测更好，那么我们很可能存在数据处理错误。  \n",
    "如果一切顺利，线性模型将作为基线模型，让我们直观地知道简单的模型离报告最好的模型有多近，让我们感觉到我们应该从更酷炫的模型中获得多少收益。"
   ]
  },
  {
   "cell_type": "code",
   "execution_count": 35,
   "id": "261ce460",
   "metadata": {},
   "outputs": [],
   "source": [
    "loss = tf.keras.losses.MeanSquaredError()\n",
    "\n",
    "def get_net():\n",
    "    net = tf.keras.models.Sequential()\n",
    "    net.add(tf.keras.layers.Dense(\n",
    "        1, kernel_regularizer = tf.keras.regularizers.l2(weight_decay)))\n",
    "    return net"
   ]
  },
  {
   "cell_type": "markdown",
   "id": "0007410b",
   "metadata": {},
   "source": [
    "对于房价，就像股票价格一样，我们关心的是相对数量，而不是绝对数量。  \n",
    "因此，我们更关心相对误差 y−y^/y ，而不是绝对误差 y−y^。"
   ]
  },
  {
   "attachments": {
    "image-2.png": {
     "image/png": "[encoded data removed]"
    },
    "image.png": {
     "image/png": "[encoded data removed]"
    }
   },
   "cell_type": "markdown",
   "id": "e70dd46c",
   "metadata": {},
   "source": [
    "解决这个问题的一种方法是用价格预测的对数来衡量差异  \n",
    "![image.png](attachment:image.png)  \n",
    "预测价格的对数与真实标签价格的对数之间出现以下均方差根误差：  \n",
    "![image-2.png](attachment:image-2.png)"
   ]
  },
  {
   "cell_type": "code",
   "execution_count": 36,
   "id": "6b0890dc",
   "metadata": {},
   "outputs": [],
   "source": [
    "def log_rmse(y_true, y_pred):\n",
    "    # 为了在取对数时进一步稳定该值，将小于1的值设置为1\n",
    "    clipped_preds = tf.clip_by_value(y_pred, 1, float('inf'))\n",
    "    return tf.sqrt(tf.reduce_mean(loss(\n",
    "        tf.math.log(y_true), tf.math.log(clipped_preds))))"
   ]
  },
  {
   "cell_type": "code",
   "execution_count": 37,
   "id": "d489102b",
   "metadata": {},
   "outputs": [],
   "source": [
    "# 将借助Adam优化器\n",
    "# 这个优化器的主要吸引力在于\n",
    "# 尽管在提供无限资源进行超参数优化方面没有做得更好（有时更差），\n",
    "# 但人们发现它对初始学习率不那么敏感。\n",
    "def train(net, train_features, train_labels, test_features, test_labels, \n",
    "         num_epochs, learning_rate, weight_decay, batch_size):\n",
    "    train_ls, test_ls = [], []\n",
    "    train_iter = d2l.load_array((train_features, train_labels), batch_size)\n",
    "    # 这里使用的就是Adam优化算法\n",
    "    optimizer = tf.keras.optimizers.Adam(learning_rate)\n",
    "    net.complie(loss=loss, optimizer=optimizer)\n",
    "    for epoch in range(num_epochs):\n",
    "        for X, y in train_iter:\n",
    "            with tf.GradientTape() as tape:\n",
    "                y_hat = net(X)\n",
    "                l = loss(y, y_hat)\n",
    "            params = net.trainable_variables\n",
    "            grads = tape.gradient(l, params)\n",
    "            optimizer.apply_gradients(zip(grads, params))\n",
    "        train_ls.append(log_rmse(train_labels, net(train_features)))\n",
    "        if test_labels is not None:\n",
    "            test_ls.append(log_rmse(test_labels, net(test_features)))\n",
    "    return train_ls, test_ls"
   ]
  },
  {
   "cell_type": "markdown",
   "id": "bda1e117",
   "metadata": {},
   "source": [
    "# K折交叉验证"
   ]
  },
  {
   "cell_type": "markdown",
   "id": "b5643d04",
   "metadata": {},
   "source": [
    "我们首先需要一个函数，在 K 折交叉验证过程中返回第 i 折的数据。它选择第 i 个切片作为验证数据，其余部分作为训练数据。  \n",
    "注意，这并不是处理数据的最有效方法，如果我们的数据集大得多，我们肯定会做一些更聪明的改变。但是这种改变所增加的复杂性可能会使代码看起来更乱。在这里可以忽略这些改变，因为我们的问题很简单。"
   ]
  },
  {
   "cell_type": "code",
   "execution_count": 30,
   "id": "83ccd108",
   "metadata": {},
   "outputs": [],
   "source": [
    "def get_k_fold_data(k, i, X, y):\n",
    "    assert k > 1\n",
    "    fold_size = X.shape[0] // k\n",
    "    X_train, y_train = None, None\n",
    "    for j in range(k):\n",
    "        idx = slice(j* fold_size, (j+1)*fold_size)\n",
    "        X_part, y_part = X[idx,:], y[idx]\n",
    "        if j == i:\n",
    "            X_valid, y_valid = X_part, y_part\n",
    "        elif X_train is None:\n",
    "            X_train, y_train = X_part, y_part\n",
    "        else:\n",
    "            X_train = tf.concat([X_train, X_part], 0)\n",
    "            y_train = tf.concat([y_train, y_part], 0)\n",
    "    return X_train, y_train, X_valid, y_valid"
   ]
  },
  {
   "cell_type": "code",
   "execution_count": 31,
   "id": "8b94b2c4",
   "metadata": {},
   "outputs": [],
   "source": [
    "def k_fold(k, X_train, y_train, num_epochs, learning_rate, weight_decay,\n",
    "          batch_size):\n",
    "    train_l_sum, valid_l_sum = 0, 0\n",
    "    for i in range(k):\n",
    "        data = get_k_fold_data(k, i, X_train, y_train)\n",
    "        net = get_net()\n",
    "        train_ls, valid_ls = train(net, *data, num_epochs, learning_rate,\n",
    "                                  weight_decay, batch_size)\n",
    "        train_l_sum += train_ls[-1]\n",
    "        valid_l_sum += valid_ls[-1]\n",
    "        if i ==0:\n",
    "            d2l.plot(list(range(1, num_epochs + 1)), [train_ls, valid_ls],\n",
    "                    xlabel = 'epoch', ylabel='rmse', xlim=[1,num_epochs],\n",
    "                    legend=['train', 'valid'], yscale='log')\n",
    "        print(f'fold{i + 1}, train log rmse {float(train_ls[-1]):f},'\n",
    "              f'valid log rmse{float(valid_ls[-1]):f}')\n",
    "    return train_l_sum / k, valid_l_sum / k"
   ]
  },
  {
   "cell_type": "markdown",
   "id": "cce92dc1",
   "metadata": {},
   "source": [
    "# 模型选择"
   ]
  },
  {
   "cell_type": "code",
   "execution_count": 33,
   "id": "9e04f35b",
   "metadata": {},
   "outputs": [
    {
     "ename": "AttributeError",
     "evalue": "'Sequential' object has no attribute 'complie'",
     "output_type": "error",
     "traceback": [
      "\u001b[1;31m---------------------------------------------------------------------------\u001b[0m",
      "\u001b[1;31mAttributeError\u001b[0m                            Traceback (most recent call last)",
      "\u001b[1;32m<ipython-input-33-9655b2a060a0>\u001b[0m in \u001b[0;36m<module>\u001b[1;34m\u001b[0m\n\u001b[0;32m      1\u001b[0m \u001b[0mk\u001b[0m\u001b[1;33m,\u001b[0m \u001b[0mnum_epochs\u001b[0m\u001b[1;33m,\u001b[0m \u001b[0mlr\u001b[0m\u001b[1;33m,\u001b[0m \u001b[0mweight_decay\u001b[0m\u001b[1;33m,\u001b[0m \u001b[0mbatch_size\u001b[0m \u001b[1;33m=\u001b[0m \u001b[1;36m5\u001b[0m\u001b[1;33m,\u001b[0m \u001b[1;36m100\u001b[0m\u001b[1;33m,\u001b[0m \u001b[1;36m5\u001b[0m\u001b[1;33m,\u001b[0m \u001b[1;36m0\u001b[0m\u001b[1;33m,\u001b[0m \u001b[1;36m64\u001b[0m\u001b[1;33m\u001b[0m\u001b[1;33m\u001b[0m\u001b[0m\n\u001b[0;32m      2\u001b[0m train_l, valid_l = k_fold(k, train_features, train_labels, num_epochs, lr,\n\u001b[1;32m----> 3\u001b[1;33m                          weight_decay, batch_size)\n\u001b[0m\u001b[0;32m      4\u001b[0m print(f'{k}-折验证：平均训练log rmse：{float(train_l):f},'\n\u001b[0;32m      5\u001b[0m       f'平均验证log rmse：{float(valid_l):f}')\n",
      "\u001b[1;32m<ipython-input-31-87c1ee595621>\u001b[0m in \u001b[0;36mk_fold\u001b[1;34m(k, X_train, y_train, num_epochs, learning_rate, weight_decay, batch_size)\u001b[0m\n\u001b[0;32m      6\u001b[0m         \u001b[0mnet\u001b[0m \u001b[1;33m=\u001b[0m \u001b[0mget_net\u001b[0m\u001b[1;33m(\u001b[0m\u001b[1;33m)\u001b[0m\u001b[1;33m\u001b[0m\u001b[1;33m\u001b[0m\u001b[0m\n\u001b[0;32m      7\u001b[0m         train_ls, valid_ls = train(net, *data, num_epochs, learning_rate,\n\u001b[1;32m----> 8\u001b[1;33m                                   weight_decay, batch_size)\n\u001b[0m\u001b[0;32m      9\u001b[0m         \u001b[0mtrain_l_sum\u001b[0m \u001b[1;33m+=\u001b[0m \u001b[0mtrain_ls\u001b[0m\u001b[1;33m[\u001b[0m\u001b[1;33m-\u001b[0m\u001b[1;36m1\u001b[0m\u001b[1;33m]\u001b[0m\u001b[1;33m\u001b[0m\u001b[1;33m\u001b[0m\u001b[0m\n\u001b[0;32m     10\u001b[0m         \u001b[0mvalid_l_sum\u001b[0m \u001b[1;33m+=\u001b[0m \u001b[0mvalid_ls\u001b[0m\u001b[1;33m[\u001b[0m\u001b[1;33m-\u001b[0m\u001b[1;36m1\u001b[0m\u001b[1;33m]\u001b[0m\u001b[1;33m\u001b[0m\u001b[1;33m\u001b[0m\u001b[0m\n",
      "\u001b[1;32m<ipython-input-23-3e70dea54b65>\u001b[0m in \u001b[0;36mtrain\u001b[1;34m(net, train_features, train_labels, test_features, test_labels, num_epochs, learning_rate, weight_decay, batch_size)\u001b[0m\n\u001b[0;32m      9\u001b[0m     \u001b[1;31m# 这里使用的就是Adam优化算法\u001b[0m\u001b[1;33m\u001b[0m\u001b[1;33m\u001b[0m\u001b[1;33m\u001b[0m\u001b[0m\n\u001b[0;32m     10\u001b[0m     \u001b[0moptimizer\u001b[0m \u001b[1;33m=\u001b[0m \u001b[0mtf\u001b[0m\u001b[1;33m.\u001b[0m\u001b[0mkeras\u001b[0m\u001b[1;33m.\u001b[0m\u001b[0moptimizers\u001b[0m\u001b[1;33m.\u001b[0m\u001b[0mAdam\u001b[0m\u001b[1;33m(\u001b[0m\u001b[0mlearning_rate\u001b[0m\u001b[1;33m)\u001b[0m\u001b[1;33m\u001b[0m\u001b[1;33m\u001b[0m\u001b[0m\n\u001b[1;32m---> 11\u001b[1;33m     \u001b[0mnet\u001b[0m\u001b[1;33m.\u001b[0m\u001b[0mcomplie\u001b[0m\u001b[1;33m(\u001b[0m\u001b[0mloss\u001b[0m\u001b[1;33m=\u001b[0m\u001b[0mloss\u001b[0m\u001b[1;33m,\u001b[0m \u001b[0moptimizer\u001b[0m\u001b[1;33m=\u001b[0m\u001b[0moptimizer\u001b[0m\u001b[1;33m)\u001b[0m\u001b[1;33m\u001b[0m\u001b[1;33m\u001b[0m\u001b[0m\n\u001b[0m\u001b[0;32m     12\u001b[0m     \u001b[1;32mfor\u001b[0m \u001b[0mepoch\u001b[0m \u001b[1;32min\u001b[0m \u001b[0mrange\u001b[0m\u001b[1;33m(\u001b[0m\u001b[0mnum_epochs\u001b[0m\u001b[1;33m)\u001b[0m\u001b[1;33m:\u001b[0m\u001b[1;33m\u001b[0m\u001b[1;33m\u001b[0m\u001b[0m\n\u001b[0;32m     13\u001b[0m         \u001b[1;32mfor\u001b[0m \u001b[0mX\u001b[0m\u001b[1;33m,\u001b[0m \u001b[0my\u001b[0m \u001b[1;32min\u001b[0m \u001b[0mtrain_iter\u001b[0m\u001b[1;33m:\u001b[0m\u001b[1;33m\u001b[0m\u001b[1;33m\u001b[0m\u001b[0m\n",
      "\u001b[1;31mAttributeError\u001b[0m: 'Sequential' object has no attribute 'complie'"
     ]
    }
   ],
   "source": [
    "k, num_epochs, lr, weight_decay, batch_size = 5, 100, 5, 0, 64\n",
    "train_l, valid_l = k_fold(k, train_features, train_labels, num_epochs, lr,\n",
    "                         weight_decay, batch_size)\n",
    "print(f'{k}-折验证：平均训练log rmse：{float(train_l):f},'\n",
    "      f'平均验证log rmse：{float(valid_l):f}')"
   ]
  },
  {
   "cell_type": "code",
   "execution_count": null,
   "id": "e91179fe",
   "metadata": {},
   "outputs": [],
   "source": []
  }
 ],
 "metadata": {
  "kernelspec": {
   "display_name": "Python 3",
   "language": "python",
   "name": "python3"
  },
  "language_info": {
   "codemirror_mode": {
    "name": "ipython",
    "version": 3
   },
   "file_extension": ".py",
   "mimetype": "text/x-python",
   "name": "python",
   "nbconvert_exporter": "python",
   "pygments_lexer": "ipython3",
   "version": "3.7.11"
  }
 },
 "nbformat": 4,
 "nbformat_minor": 5
}
